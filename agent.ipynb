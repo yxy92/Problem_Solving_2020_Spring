{
 "cells": [
  {
   "cell_type": "code",
   "execution_count": 2,
   "metadata": {},
   "outputs": [],
   "source": [
    "from mesa import Agent\n",
    "import random\n",
    "from mesa import space"
   ]
  },
  {
   "cell_type": "code",
   "execution_count": 3,
   "metadata": {},
   "outputs": [],
   "source": [
    "infection_rate = 0.2\n",
    "recovery_rate = 0.01"
   ]
  },
  {
   "cell_type": "code",
   "execution_count": 4,
   "metadata": {},
   "outputs": [],
   "source": [
    "class Bacteria(Agent):\n",
    "    def __init__(self, unique_id,model,state=0,age=0,volume=0.1,tax='bac',gene_arg=None,mge=None):\n",
    "        super().__init__(unique_id, model)\n",
    "        self.unique_id = unique_id\n",
    "        self.model = model\n",
    "        self.state = state # 0 susceptible; 1 infected; 2 recovered\n",
    "        self.age=age\n",
    "        self.volume = volume\n",
    "        self.tax = tax\n",
    "        self.gene_arg = gene_arg\n",
    "        self.mge = mge\n",
    "\n",
    "    def step(self):\n",
    "        self.random_move()\n",
    "        self.divide()\n",
    "        self.grow()\n",
    "        self.interact()\n",
    "\n",
    "\n",
    "\n",
    "    def random_move(self):\n",
    "        ''' Bacteria can randomly move to nearby grids'''\n",
    "        neighbor_pos = self.model.grid.get_neighborhood(self.pos, moore=True,include_center=False)\n",
    "        new_pos = random.choice(neighbor_pos)\n",
    "        self.model.grid.move_agent(self,new_pos)\n",
    "\n",
    "    def grow(self):\n",
    "        self.age += 1\n",
    "        self.volume = 0.1 + self.age*0.005\n",
    "\n",
    "    def divide(self):\n",
    "        if self.volume == 0.2: # divide when the bacteria reaches 20 time steps\n",
    "            self.age = 0\n",
    "            new_born = Bacteria(self.model.num_agents+1,self.model,\n",
    "            self.state,0,0.1,self.tax,self.gene_arg,self.mge) # inherit the genes from parent cell\n",
    "            self.model.grid.place_agent(new_born,self.pos)\n",
    "            self.model.schedule.add(new_born)\n",
    "            self.model.num_agents += 1\n",
    "\n",
    "    def interact(self):\n",
    "        ''' interact with bacteria located in the same grid'''\n",
    "        # search the agents located in the same grids\n",
    "\n",
    "        if self.state == 1:\n",
    "            x, y = self.pos\n",
    "            this_cell = self.model.grid.get_cell_list_contents([self.pos])\n",
    "            susceptible_bacteria = [obj for obj in this_cell if obj.state==0]\n",
    "            # randomly infected a susceptible_bacteria\n",
    "            if len(susceptible_bacteria)>0:\n",
    "                for each in susceptible_bacteria:\n",
    "                    # randomly sample a number p, if p<infection rate, infection happens\n",
    "                    p = random.uniform(0,1)\n",
    "                    if p< infection_rate:\n",
    "                        each.state = 1\n",
    "                        each.gene_arg = self.gene_arg\n",
    "\n",
    "            # after infection, there is a chance to recovered\n",
    "            p = random.uniform(0,1)\n",
    "            if p<recovery_rate:\n",
    "                self.state = 2\n",
    "\n"
   ]
  },
  {
   "cell_type": "markdown",
   "metadata": {},
   "source": [
    "# Test Zone"
   ]
  },
  {
   "cell_type": "code",
   "execution_count": 5,
   "metadata": {},
   "outputs": [],
   "source": [
    "bac_A = Bacteria"
   ]
  },
  {
   "cell_type": "code",
   "execution_count": null,
   "metadata": {},
   "outputs": [],
   "source": []
  },
  {
   "cell_type": "code",
   "execution_count": null,
   "metadata": {},
   "outputs": [],
   "source": []
  }
 ],
 "metadata": {
  "kernelspec": {
   "display_name": "Python 3",
   "language": "python",
   "name": "python3"
  },
  "language_info": {
   "codemirror_mode": {
    "name": "ipython",
    "version": 3
   },
   "file_extension": ".py",
   "mimetype": "text/x-python",
   "name": "python",
   "nbconvert_exporter": "python",
   "pygments_lexer": "ipython3",
   "version": "3.7.3"
  }
 },
 "nbformat": 4,
 "nbformat_minor": 4
}
