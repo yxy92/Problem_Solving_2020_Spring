{
 "cells": [
  {
   "cell_type": "markdown",
   "metadata": {
    "deletable": true,
    "editable": true
   },
   "source": [
    "## CURRENT NOTES"
   ]
  },
  {
   "cell_type": "markdown",
   "metadata": {
    "deletable": true,
    "editable": true
   },
   "source": [
    "(03/23/20):\n",
    "\n",
    "~I've updated my bacteria class and its functions to match your version for mesa\n",
    "\n",
    "~I've added a carrying capacity function to be applied IMMEDIATELY AFTER reproduce function\n",
    "\n",
    "(02/24/20):\n",
    "\n",
    "~ I've added the reproduction function\n",
    "\n",
    "~ It can be used in a .apply() manner\n",
    "\n",
    "(02/12/20):\n",
    "\n",
    "~ There are now functions for gene transfer and two different ways of displaying data\n",
    "\n",
    "~ Still need work on bacteria reproduction function. A few decisions need to be made (likely as a group)\n",
    "\n",
    "\n",
    "(02/10/20):\n",
    "\n",
    "~ There are no functions yet\n",
    "\n",
    "~ Let's work this week to implement the determinisitic model sent to us\n",
    "\n",
    "---"
   ]
  },
  {
   "cell_type": "markdown",
   "metadata": {
    "deletable": true,
    "editable": true
   },
   "source": [
    "- This code establishes the bacteria class to be used in the agent-based model\n",
    "\n",
    "- The final model does not have to be done in this notebook\n",
    "\n",
    "- This should just be the building ground for the individuals and their functions in the ABM"
   ]
  },
  {
   "cell_type": "code",
   "execution_count": 1,
   "metadata": {
    "collapsed": true,
    "deletable": true,
    "editable": true,
    "jupyter": {
     "outputs_hidden": true
    }
   },
   "outputs": [],
   "source": [
    "import networkx as nx\n",
    "import pandas as pd\n",
    "from matplotlib import pyplot as plt\n",
    "import datetime\n",
    "import numpy as np \n",
    "import math\n",
    "import pylab as pl\n",
    "import math\n",
    "import random as rd \n",
    "import copy\n",
    "from mesa import Agent\n",
    "from mesa import space"
   ]
  },
  {
   "cell_type": "code",
   "execution_count": 2,
   "metadata": {
    "collapsed": false,
    "deletable": true,
    "editable": true,
    "jupyter": {
     "outputs_hidden": false
    }
   },
   "outputs": [],
   "source": [
    "##initializing the bacteria class\n",
    "  \n",
    "class bacteria(Agent):\n",
    "    def __init__(self, unique_id,model,state=0,age=0,volume=0.1,tax='bac',gene_arg='mce',mge=\"afg\",gene_pres=0,mge_pres=0):\n",
    "        super().__init__(unique_id, model)\n",
    "        self.unique_id = unique_id\n",
    "        self.model = model\n",
    "        self.state = state #{0:susceptible, 1:resistant, 2:acquired resistant}\n",
    "        self.age=age\n",
    "        self.volume = volume\n",
    "        self.tax = tax\n",
    "        self.gene_arg = gene_arg\n",
    "        self.gene_pres = gene_pres\n",
    "        self.mge = mge\n",
    "        self.mge_pres = mge_pres\n",
    "        \n",
    "    def display(self):\n",
    "        #will display all features of bacteria\n",
    "        print(\"Unique ID: \",self.unique_id)\n",
    "        print(\"Model: \",self.model)\n",
    "        print(\"State: \",self.state)\n",
    "        print(\"Age: \",self.age)\n",
    "        print(\"Volume: \",self.volume)\n",
    "        print(\"Taxonomy: \",self.tax)\n",
    "        print(\"ARG Presence: \",self.gene_pres)\n",
    "        print(\"ARG: \",self.gene_arg)\n",
    "        print(\"MGE Presence: \",self.mge_pres)\n",
    "        print(\"MGE: \",self.mge)\n",
    "        print(\"\")\n",
    "        \n",
    "    def build_series(self):\n",
    "        row = pd.Series([self.unique_id,self.model,self.state,self.age,self.volume,self.tax,self.gene_pres,self.gene_arg,self.mge_pres,self.mge],\n",
    "                        index=[\"unique_id\",\"model\",\"state\",\"age\",\"volume\",\"taxonomy\",\"gene_pres\",\"gene\",\"mge_pres\",\"mge\"])\n",
    "        return row"
   ]
  },
  {
   "cell_type": "code",
   "execution_count": 3,
   "metadata": {
    "collapsed": true,
    "deletable": true,
    "editable": true,
    "jupyter": {
     "outputs_hidden": true
    }
   },
   "outputs": [],
   "source": [
    "##This function changes the state to acuired resistance\n",
    "##Meant to be used in a .apply or map() manner\n",
    "def gene_transferred(x):\n",
    "    x.state = 2\n",
    "    return x"
   ]
  },
  {
   "cell_type": "code",
   "execution_count": 4,
   "metadata": {
    "collapsed": true,
    "deletable": true,
    "editable": true,
    "jupyter": {
     "outputs_hidden": true
    }
   },
   "outputs": [],
   "source": [
    "##colony is a list of bacteria class objects\n",
    "##This function reassigns the states of susceptible bacteria based on the horizontal gene transfer rates\n",
    "\n",
    "##WHEN DONE TESTING BE SURE TO REMOVE PRINT() LINES\n",
    "\n",
    "def horizontal_gene_transfer(colony,acq_trans_rate=0.0001,res_trans_rate=0.0001):\n",
    "    \n",
    "    ##Number of newly resistant bacteria from acquired resistance bacteria\n",
    "    new_acq = acq_trans_rate*len([x for x in colony if x.state == 2])\n",
    "    \n",
    "    ##Number of newly resistant bacteria from originally resistant bacteria\n",
    "    new_res = res_trans_rate*len([x for x in colony if x.state == 1])\n",
    "    \n",
    "    ##randomly choose which bacteria will be new resistant bacteria\n",
    "    print(new_acq+new_res)\n",
    "    changing = rd.sample([x for x in colony if x.state == 0],round(new_acq+new_res))\n",
    "    print(changing)\n",
    "    list(map(gene_transferred,[x for x in changing if x.state == 0])) #This will globally change state; don't worry about it being a list\n",
    "    \n",
    "    \n",
    "    return #Nothing to return since changes were global\n",
    "    "
   ]
  },
  {
   "cell_type": "code",
   "execution_count": 5,
   "metadata": {
    "collapsed": true,
    "deletable": true,
    "editable": true,
    "jupyter": {
     "outputs_hidden": true
    }
   },
   "outputs": [],
   "source": [
    "def group_df(bac_list):\n",
    "    ##bac_list must be a list of bacteria objects\n",
    "    ##this can be a full colony or any specified subgroup of a colony\n",
    "    ##returns a dataframe of a copy of bacteria object values (NOT OBJECTS)\n",
    "    \n",
    "    rows=[]\n",
    "    for i in bac_list:\n",
    "        rows.append(i.build_series())\n",
    "\n",
    "    col_df = pd.DataFrame(rows)\n",
    "    \n",
    "\n",
    "    return col_df"
   ]
  },
  {
   "cell_type": "code",
   "execution_count": 6,
   "metadata": {
    "collapsed": true,
    "deletable": true,
    "editable": true,
    "jupyter": {
     "outputs_hidden": true
    }
   },
   "outputs": [],
   "source": [
    "##Creates a number of copies depending on state reproduction rate of a given bacteria object\n",
    "##Returns a list of offspring bacteria objects\n",
    "\n",
    "##Capable of being used in a .apply() manner\n",
    "\n",
    "def reproduce(bac,sus_growth = 2,res_growth = 1.1,acq_growth = 1.1):\n",
    "    ##Creates reproduced bacteria based on given bacteria\n",
    "    \n",
    "    offspring = []\n",
    "    \n",
    "    if bac.state == 0:\n",
    "        rep_rate = sus_growth\n",
    "        \n",
    "    elif bac.state == 1:\n",
    "        rep_rate = res_growth\n",
    "        \n",
    "    elif bac.state == 2:\n",
    "        rep_rate = acq_growth\n",
    "        \n",
    "    else:\n",
    "        raise Exception(\"Unknown Bacteria Object state\")\n",
    "            \n",
    "            \n",
    "    for i in range(round(rep_rate)):\n",
    "        offsp = copy.copy(bac)\n",
    "        offsp.age = 0\n",
    "        offspring.append(offsp)\n",
    "            \n",
    "    \n",
    "    return offspring"
   ]
  },
  {
   "cell_type": "code",
   "execution_count": 7,
   "metadata": {
    "collapsed": true,
    "deletable": true,
    "editable": true,
    "jupyter": {
     "outputs_hidden": true
    }
   },
   "outputs": [],
   "source": [
    "##Removes bacteria from colony based on carrying capacity\n",
    "##Assumes homogeneity in removal\n",
    "\n",
    "##MUST BE APPLIED IMMEDIATELY AFTER REPRODUCE FUNCTION\n",
    "def carry_cap(colony,sus_cap,res_cap,acq_cap):\n",
    "     \n",
    "    \n",
    "    sus_pop = [x for x in colony if x.state == 0]\n",
    "    sus_pop = rd.sample(sus_pop, round(len(sus_pop)/sus_cap))\n",
    "    colony = [x for x in colony if x not in sus_pop]\n",
    "    \n",
    "    res_pop = [x for x in colony if x.state == 1]\n",
    "    res_pop = rd.sample(res_pop, round(len(res_pop)/res_cap))\n",
    "    colony = [x for x in colony if x not in res_pop]\n",
    "    \n",
    "    acq_pop = [x for x in colony if x.state == 2]\n",
    "    acq_pop = rd.sample(acq_pop, round(len(acq_pop)/acq_cap))\n",
    "    colony = [x for x in colony if x not in acq_pop]\n",
    "    \n",
    "\n",
    "    \n",
    "    return colony"
   ]
  },
  {
   "cell_type": "markdown",
   "metadata": {
    "deletable": true,
    "editable": true
   },
   "source": [
    "## Testing Zone"
   ]
  },
  {
   "cell_type": "code",
   "execution_count": 31,
   "metadata": {
    "collapsed": false,
    "deletable": true,
    "editable": true,
    "jupyter": {
     "outputs_hidden": false
    }
   },
   "outputs": [],
   "source": [
    "col = [bacteria(\"ID\",\"model\",1,0.3,0.75,'streptococcus',1,'ArB1',0,0),bacteria(\"ID\",\"model\",0,0.3,0.75,'sdfsa',1,'ArB1',0,0),bacteria(\"ID\",\"model\",1,0.3,0.75,'streptococcus',1,'ArB1',0,0)]\n",
    "for i in range(3):\n",
    "    col.append(bacteria(\"ID\",\"model\",0,0.3,0.75,'dafsdva',0,0,0,0))\n",
    "    \n",
    "for i in range(3):\n",
    "    col.append(bacteria(\"ID\",\"model\",2,0.3,0.75,'dafsdva',0,0,0,0))\n",
    "    \n",
    "for i in range(5):\n",
    "    col.append(bacteria(\"ID\",\"model\",1,0.3,0.75,'dafsdva',0,0,0,0))"
   ]
  },
  {
   "cell_type": "code",
   "execution_count": 27,
   "metadata": {
    "collapsed": false,
    "jupyter": {
     "outputs_hidden": false
    }
   },
   "outputs": [
    {
     "name": "stdout",
     "output_type": "stream",
     "text": [
      "Unique ID:  ID\n",
      "Model:  model\n",
      "State:  1\n",
      "Age:  0.3\n",
      "Volume:  0.75\n",
      "Taxonomy:  dafsdva\n",
      "ARG Presence:  0\n",
      "ARG:  0\n",
      "MGE Presence:  0\n",
      "MGE:  0\n",
      "\n"
     ]
    }
   ],
   "source": [
    "x = bacteria(\"ID\",\"model\",1,0.3,0.75,'dafsdva',0,0,0,0)\n",
    "x.display()"
   ]
  },
  {
   "cell_type": "code",
   "execution_count": 29,
   "metadata": {
    "collapsed": false,
    "deletable": true,
    "editable": true,
    "jupyter": {
     "outputs_hidden": false
    }
   },
   "outputs": [
    {
     "data": {
      "text/plain": [
       "14"
      ]
     },
     "execution_count": 29,
     "metadata": {},
     "output_type": "execute_result"
    }
   ],
   "source": [
    "len(col)"
   ]
  },
  {
   "cell_type": "code",
   "execution_count": 30,
   "metadata": {
    "collapsed": false,
    "deletable": true,
    "editable": true,
    "jupyter": {
     "outputs_hidden": false
    }
   },
   "outputs": [
    {
     "data": {
      "text/plain": [
       "3"
      ]
     },
     "execution_count": 30,
     "metadata": {},
     "output_type": "execute_result"
    }
   ],
   "source": [
    "len([x for x in col if x.state == 2])"
   ]
  },
  {
   "cell_type": "code",
   "execution_count": 31,
   "metadata": {
    "collapsed": false,
    "deletable": true,
    "editable": true,
    "jupyter": {
     "outputs_hidden": false
    }
   },
   "outputs": [
    {
     "name": "stdout",
     "output_type": "stream",
     "text": [
      "3.9\n",
      "[<__main__.bacteria object at 0x000001F94C459C88>, <__main__.bacteria object at 0x000001F94C459C50>, <__main__.bacteria object at 0x000001F94C55F7B8>, <__main__.bacteria object at 0x000001F94C55F828>]\n"
     ]
    }
   ],
   "source": [
    "horizontal_gene_transfer(col,res_trans_rate=.3,acq_trans_rate=.6)"
   ]
  },
  {
   "cell_type": "code",
   "execution_count": 32,
   "metadata": {
    "collapsed": false,
    "deletable": true,
    "editable": true,
    "jupyter": {
     "outputs_hidden": false
    }
   },
   "outputs": [
    {
     "data": {
      "text/plain": [
       "7"
      ]
     },
     "execution_count": 32,
     "metadata": {},
     "output_type": "execute_result"
    }
   ],
   "source": [
    "len([x for x in col if x.state == 2])"
   ]
  },
  {
   "cell_type": "code",
   "execution_count": 33,
   "metadata": {
    "collapsed": false,
    "deletable": true,
    "editable": true,
    "jupyter": {
     "outputs_hidden": false
    }
   },
   "outputs": [
    {
     "data": {
      "text/html": [
       "<div>\n",
       "<style>\n",
       "    .dataframe thead tr:only-child th {\n",
       "        text-align: right;\n",
       "    }\n",
       "\n",
       "    .dataframe thead th {\n",
       "        text-align: left;\n",
       "    }\n",
       "\n",
       "    .dataframe tbody tr th {\n",
       "        vertical-align: top;\n",
       "    }\n",
       "</style>\n",
       "<table border=\"1\" class=\"dataframe\">\n",
       "  <thead>\n",
       "    <tr style=\"text-align: right;\">\n",
       "      <th></th>\n",
       "      <th>unique_id</th>\n",
       "      <th>model</th>\n",
       "      <th>state</th>\n",
       "      <th>age</th>\n",
       "      <th>volume</th>\n",
       "      <th>taxonomy</th>\n",
       "      <th>gene_pres</th>\n",
       "      <th>gene</th>\n",
       "      <th>mge_pres</th>\n",
       "      <th>mge</th>\n",
       "    </tr>\n",
       "  </thead>\n",
       "  <tbody>\n",
       "    <tr>\n",
       "      <th>0</th>\n",
       "      <td>ID</td>\n",
       "      <td>model</td>\n",
       "      <td>2</td>\n",
       "      <td>0.3</td>\n",
       "      <td>0.75</td>\n",
       "      <td>sdfsa</td>\n",
       "      <td>0</td>\n",
       "      <td>1</td>\n",
       "      <td>0</td>\n",
       "      <td>ArB1</td>\n",
       "    </tr>\n",
       "    <tr>\n",
       "      <th>1</th>\n",
       "      <td>ID</td>\n",
       "      <td>model</td>\n",
       "      <td>2</td>\n",
       "      <td>0.3</td>\n",
       "      <td>0.75</td>\n",
       "      <td>dafsdva</td>\n",
       "      <td>0</td>\n",
       "      <td>0</td>\n",
       "      <td>0</td>\n",
       "      <td>0</td>\n",
       "    </tr>\n",
       "    <tr>\n",
       "      <th>2</th>\n",
       "      <td>ID</td>\n",
       "      <td>model</td>\n",
       "      <td>2</td>\n",
       "      <td>0.3</td>\n",
       "      <td>0.75</td>\n",
       "      <td>dafsdva</td>\n",
       "      <td>0</td>\n",
       "      <td>0</td>\n",
       "      <td>0</td>\n",
       "      <td>0</td>\n",
       "    </tr>\n",
       "    <tr>\n",
       "      <th>3</th>\n",
       "      <td>ID</td>\n",
       "      <td>model</td>\n",
       "      <td>2</td>\n",
       "      <td>0.3</td>\n",
       "      <td>0.75</td>\n",
       "      <td>dafsdva</td>\n",
       "      <td>0</td>\n",
       "      <td>0</td>\n",
       "      <td>0</td>\n",
       "      <td>0</td>\n",
       "    </tr>\n",
       "    <tr>\n",
       "      <th>4</th>\n",
       "      <td>ID</td>\n",
       "      <td>model</td>\n",
       "      <td>2</td>\n",
       "      <td>0.3</td>\n",
       "      <td>0.75</td>\n",
       "      <td>dafsdva</td>\n",
       "      <td>0</td>\n",
       "      <td>0</td>\n",
       "      <td>0</td>\n",
       "      <td>0</td>\n",
       "    </tr>\n",
       "    <tr>\n",
       "      <th>5</th>\n",
       "      <td>ID</td>\n",
       "      <td>model</td>\n",
       "      <td>2</td>\n",
       "      <td>0.3</td>\n",
       "      <td>0.75</td>\n",
       "      <td>dafsdva</td>\n",
       "      <td>0</td>\n",
       "      <td>0</td>\n",
       "      <td>0</td>\n",
       "      <td>0</td>\n",
       "    </tr>\n",
       "    <tr>\n",
       "      <th>6</th>\n",
       "      <td>ID</td>\n",
       "      <td>model</td>\n",
       "      <td>2</td>\n",
       "      <td>0.3</td>\n",
       "      <td>0.75</td>\n",
       "      <td>dafsdva</td>\n",
       "      <td>0</td>\n",
       "      <td>0</td>\n",
       "      <td>0</td>\n",
       "      <td>0</td>\n",
       "    </tr>\n",
       "  </tbody>\n",
       "</table>\n",
       "</div>"
      ],
      "text/plain": [
       "  unique_id  model  state  age  volume taxonomy  gene_pres  gene  mge_pres  \\\n",
       "0        ID  model      2  0.3    0.75    sdfsa          0     1         0   \n",
       "1        ID  model      2  0.3    0.75  dafsdva          0     0         0   \n",
       "2        ID  model      2  0.3    0.75  dafsdva          0     0         0   \n",
       "3        ID  model      2  0.3    0.75  dafsdva          0     0         0   \n",
       "4        ID  model      2  0.3    0.75  dafsdva          0     0         0   \n",
       "5        ID  model      2  0.3    0.75  dafsdva          0     0         0   \n",
       "6        ID  model      2  0.3    0.75  dafsdva          0     0         0   \n",
       "\n",
       "    mge  \n",
       "0  ArB1  \n",
       "1     0  \n",
       "2     0  \n",
       "3     0  \n",
       "4     0  \n",
       "5     0  \n",
       "6     0  "
      ]
     },
     "execution_count": 33,
     "metadata": {},
     "output_type": "execute_result"
    }
   ],
   "source": [
    "group_df([x for x in col if x.state == 2])"
   ]
  },
  {
   "cell_type": "code",
   "execution_count": 25,
   "metadata": {
    "collapsed": false,
    "deletable": true,
    "editable": true,
    "jupyter": {
     "outputs_hidden": false
    }
   },
   "outputs": [
    {
     "name": "stdout",
     "output_type": "stream",
     "text": [
      "State:  1\n",
      "Taxonomy:  streptococcus\n",
      "ARG Presence:  1\n",
      "ARG:  ArB1\n",
      "MGE Presence:  0\n",
      "MGE:  0\n",
      "Biome:  ocean\n",
      "\n"
     ]
    }
   ],
   "source": [
    "test = copy.copy(col[0])\n",
    "test.state = 1\n",
    "test.display()"
   ]
  },
  {
   "cell_type": "code",
   "execution_count": 27,
   "metadata": {
    "collapsed": false,
    "deletable": true,
    "editable": true,
    "jupyter": {
     "outputs_hidden": false
    }
   },
   "outputs": [
    {
     "data": {
      "text/plain": [
       "[<__main__.bacteria at 0x1d84b44c978>,\n",
       " <__main__.bacteria at 0x1d84b44c668>,\n",
       " <__main__.bacteria at 0x1d84b44c7f0>,\n",
       " <__main__.bacteria at 0x1d84b44cda0>,\n",
       " <__main__.bacteria at 0x1d84b44ce10>]"
      ]
     },
     "execution_count": 27,
     "metadata": {},
     "output_type": "execute_result"
    }
   ],
   "source": [
    "reproduce(test, res_growth=5)"
   ]
  },
  {
   "cell_type": "code",
   "execution_count": 15,
   "metadata": {
    "collapsed": false,
    "jupyter": {
     "outputs_hidden": false
    }
   },
   "outputs": [
    {
     "data": {
      "text/plain": [
       "14"
      ]
     },
     "execution_count": 15,
     "metadata": {},
     "output_type": "execute_result"
    }
   ],
   "source": [
    "len(col)"
   ]
  },
  {
   "cell_type": "code",
   "execution_count": 37,
   "metadata": {
    "collapsed": false,
    "deletable": true,
    "editable": true,
    "jupyter": {
     "outputs_hidden": false
    }
   },
   "outputs": [
    {
     "data": {
      "text/plain": [
       "12"
      ]
     },
     "execution_count": 37,
     "metadata": {},
     "output_type": "execute_result"
    }
   ],
   "source": [
    "acq_pop = [x for x in col if x.state == 2]\n",
    "acq_pop = rd.sample(acq_pop, round(len(acq_pop)/2))\n",
    "col = [x for x in col if x not in acq_pop]\n",
    "len(col)"
   ]
  },
  {
   "cell_type": "code",
   "execution_count": null,
   "metadata": {
    "collapsed": true,
    "jupyter": {
     "outputs_hidden": true
    }
   },
   "outputs": [],
   "source": []
  }
 ],
 "metadata": {
  "kernelspec": {
   "display_name": "Python 3",
   "language": "python",
   "name": "python3"
  },
  "language_info": {
   "codemirror_mode": {
    "name": "ipython",
    "version": 3
   },
   "file_extension": ".py",
   "mimetype": "text/x-python",
   "name": "python",
   "nbconvert_exporter": "python",
   "pygments_lexer": "ipython3",
   "version": "3.7.3"
  }
 },
 "nbformat": 4,
 "nbformat_minor": 4
}
