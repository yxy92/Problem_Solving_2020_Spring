{
 "cells": [
  {
   "cell_type": "markdown",
   "metadata": {},
   "source": [
    "## CURRENT NOTES\n",
    "\n",
    "There are no functions yet\n",
    "\n",
    "Let's work this week to implement the determinisitic model sent to us"
   ]
  },
  {
   "cell_type": "code",
   "execution_count": 1,
   "metadata": {},
   "outputs": [],
   "source": [
    "## This code establishes the bacteria class to be used in the agent-based model\n",
    "## The final model does not have to be done in this notebook\n",
    "## This should just be the building ground for the individuals in the ABM"
   ]
  },
  {
   "cell_type": "code",
   "execution_count": 1,
   "metadata": {},
   "outputs": [],
   "source": [
    "import networkx as nx\n",
    "import pandas as pd\n",
    "from matplotlib import pyplot as plt\n",
    "import datetime\n",
    "import numpy as np \n",
    "import math\n",
    "import pylab as pl\n",
    "import math"
   ]
  },
  {
   "cell_type": "code",
   "execution_count": 2,
   "metadata": {},
   "outputs": [],
   "source": [
    "##initializing the bacteria class\n",
    "\n",
    "class bacteria:\n",
    "    \n",
    "    def __init__(self,carrier,tax,gene_pres,gene,mge_pres,mge,biome):\n",
    "        \n",
    "        self.carrier = carrier\n",
    "        self.tax = tax\n",
    "        self.gene_pres = gene_pres\n",
    "        self.gene = gene\n",
    "        self.mge_pres = mge_pres\n",
    "        self.mge = mge\n",
    "        self.biome = biome\n",
    "        "
   ]
  },
  {
   "cell_type": "code",
   "execution_count": 3,
   "metadata": {},
   "outputs": [
    {
     "data": {
      "text/plain": [
       "'ArB1'"
      ]
     },
     "execution_count": 3,
     "metadata": {},
     "output_type": "execute_result"
    }
   ],
   "source": [
    "##Testing the class\n",
    "##This does not need to be kept in the code\n",
    "##This is an example that's not necessarily true\n",
    "\n",
    "strep = bacteria(1,'streptococcus',1,'ArB1',0,0,'ocean')\n",
    "strep.gene"
   ]
  },
  {
   "cell_type": "code",
   "execution_count": null,
   "metadata": {},
   "outputs": [],
   "source": []
  }
 ],
 "metadata": {
  "kernelspec": {
   "display_name": "Python 3",
   "language": "python",
   "name": "python3"
  },
  "language_info": {
   "codemirror_mode": {
    "name": "ipython",
    "version": 3
   },
   "file_extension": ".py",
   "mimetype": "text/x-python",
   "name": "python",
   "nbconvert_exporter": "python",
   "pygments_lexer": "ipython3",
   "version": "3.5.2"
  }
 },
 "nbformat": 4,
 "nbformat_minor": 2
}
