{
 "cells": [
  {
   "cell_type": "markdown",
   "metadata": {
    "deletable": true,
    "editable": true
   },
   "source": [
    "## CURRENT NOTES"
   ]
  },
  {
   "cell_type": "markdown",
   "metadata": {
    "deletable": true,
    "editable": true
   },
   "source": [
    "(02/12/20):\n",
    "\n",
    "~ There are now functions for gene transfer and two different ways of displaying data\n",
    "\n",
    "~ Still need work on bacteria reproduction function. A few decisions need to be made (likely as a group)\n",
    "\n",
    "\n",
    "(02/10/20):\n",
    "\n",
    "~ There are no functions yet\n",
    "\n",
    "~ Let's work this week to implement the determinisitic model sent to us\n",
    "\n",
    "---"
   ]
  },
  {
   "cell_type": "markdown",
   "metadata": {
    "deletable": true,
    "editable": true
   },
   "source": [
    "- This code establishes the bacteria class to be used in the agent-based model\n",
    "\n",
    "- The final model does not have to be done in this notebook\n",
    "\n",
    "- This should just be the building ground for the individuals and their functions in the ABM"
   ]
  },
  {
   "cell_type": "code",
   "execution_count": 1,
   "metadata": {
    "collapsed": true,
    "deletable": true,
    "editable": true
   },
   "outputs": [],
   "source": [
    "import networkx as nx\n",
    "import pandas as pd\n",
    "from matplotlib import pyplot as plt\n",
    "import datetime\n",
    "import numpy as np \n",
    "import math\n",
    "import pylab as pl\n",
    "import math\n",
    "import random as rd "
   ]
  },
  {
   "cell_type": "code",
   "execution_count": 2,
   "metadata": {
    "collapsed": true,
    "deletable": true,
    "editable": true
   },
   "outputs": [],
   "source": [
    "##initializing the bacteria class\n",
    "\n",
    "class bacteria:\n",
    "    \n",
    "    def __init__(self,state,tax,gene_pres,gene,mge_pres,mge,biome):\n",
    "        \n",
    "        self.state = state #{0:susceptible, 1:resistant, 2:acquired resistant}\n",
    "        self.tax = tax\n",
    "        self.gene_pres = gene_pres\n",
    "        self.gene = gene\n",
    "        self.mge_pres = mge_pres\n",
    "        self.mge = mge\n",
    "        self.biome = biome\n",
    "        \n",
    "    def display(self):\n",
    "        #will display all features of bacteria\n",
    "        print(\"State: \",self.state)\n",
    "        print(\"Taxonomy: \",self.tax)\n",
    "        print(\"ARG Presence: \",self.gene_pres)\n",
    "        print(\"ARG: \",self.gene)\n",
    "        print(\"MGE Presence: \",self.mge_pres)\n",
    "        print(\"MGE: \",self.mge)\n",
    "        print(\"Biome: \",self.biome)\n",
    "        print(\"\")\n",
    "        \n",
    "    def build_series(self):\n",
    "        row = pd.Series([self.state,self.tax,self.gene_pres,self.gene,self.mge_pres,self.mge,self.biome],\n",
    "                        index=[\"state\",\"taxonomy\",\"gene_pres\",\"gene\",\"mge_pres\",\"mge\",\"biome\"])\n",
    "        return row"
   ]
  },
  {
   "cell_type": "code",
   "execution_count": 3,
   "metadata": {
    "collapsed": true,
    "deletable": true,
    "editable": true
   },
   "outputs": [],
   "source": [
    "##This function changes the state to acuired resistance\n",
    "##Meant to be used in a .apply or map() manner\n",
    "def gene_transferred(x):\n",
    "    x.state = 2\n",
    "    return x"
   ]
  },
  {
   "cell_type": "code",
   "execution_count": 4,
   "metadata": {
    "collapsed": true,
    "deletable": true,
    "editable": true
   },
   "outputs": [],
   "source": [
    "##colony is a list of bacteria class objects\n",
    "##This function reassigns the states of susceptible bacteria based on the horizontal gene transfer rates\n",
    "\n",
    "##WHEN DONE TESTING BE SURE TO REMOVE PRINT() LINES\n",
    "\n",
    "def horizontal_gene_transfer(colony,acq_trans_rate=0.0001,res_trans_rate=0.0001):\n",
    "    \n",
    "    ##Number of newly resistant bacteria from acquired resistance bacteria\n",
    "    new_acq = acq_trans_rate*len([x for x in colony if x.state == 2])\n",
    "    \n",
    "    ##Number of newly resistant bacteria from originally resistant bacteria\n",
    "    new_res = res_trans_rate*len([x for x in colony if x.state == 1])\n",
    "    \n",
    "    ##randomly choose which bacteria will be new resistant bacteria\n",
    "    print(new_acq+new_res)\n",
    "    changing = rd.sample([x for x in colony if x.state == 0],round(new_acq+new_res))\n",
    "    print(changing)\n",
    "    list(map(gene_transferred,[x for x in changing if x.state == 0])) #This will globally change state; don't worry about it being a list\n",
    "    \n",
    "    \n",
    "    return #Nothing to return since changes were global\n",
    "    "
   ]
  },
  {
   "cell_type": "code",
   "execution_count": 5,
   "metadata": {
    "collapsed": true,
    "deletable": true,
    "editable": true
   },
   "outputs": [],
   "source": [
    "def group_df(bac_list):\n",
    "    ##bac_list must be a list of bacteria objects\n",
    "    ##this can be a full colony or any specified subgroup of a colony\n",
    "    ##returns a dataframe of a copy of bacteria object values (NOT OBJECTS)\n",
    "    \n",
    "    rows=[]\n",
    "    for i in bac_list:\n",
    "        rows.append(i.build_series())\n",
    "\n",
    "    col_df = pd.DataFrame(rows)\n",
    "    \n",
    "\n",
    "    return col_df"
   ]
  },
  {
   "cell_type": "code",
   "execution_count": 6,
   "metadata": {
    "collapsed": true,
    "deletable": true,
    "editable": true
   },
   "outputs": [],
   "source": [
    "##STILL WORKING ON THIS\n",
    "\n",
    "def pop_growth(colony,sus_growth = 2,res_growth = 1.1,acq_growth = 1.1):\n",
    "    ##Adds bacteria to colony\n",
    "    \n",
    "    ##How do we want to handle distributing species? Create duplicates or assign distribution of features?\n",
    "    \n",
    "    sus_add = sus_growth\n",
    "    \n",
    "    return"
   ]
  },
  {
   "cell_type": "markdown",
   "metadata": {
    "deletable": true,
    "editable": true
   },
   "source": [
    "## Testing Zone"
   ]
  },
  {
   "cell_type": "code",
   "execution_count": 7,
   "metadata": {
    "collapsed": true,
    "deletable": true,
    "editable": true
   },
   "outputs": [],
   "source": [
    "col = [bacteria(1,'streptococcus',1,'ArB1',0,0,'ocean'),bacteria(0,'sdfsa',1,'ArB1',0,0,'ocean'),bacteria(1,'streptococcus',1,'ArB1',0,0,'ocean')]\n",
    "for i in range(3):\n",
    "    col.append(bacteria(0,'dafsdva',0,0,0,0,'ocean'))\n",
    "    \n",
    "for i in range(3):\n",
    "    col.append(bacteria(2,'dafsdva',0,0,0,0,'ocean'))\n",
    "    \n",
    "for i in range(5):\n",
    "    col.append(bacteria(1,'dafsdva',0,0,0,0,'ocean'))"
   ]
  },
  {
   "cell_type": "code",
   "execution_count": 8,
   "metadata": {
    "collapsed": false,
    "deletable": true,
    "editable": true
   },
   "outputs": [
    {
     "data": {
      "text/plain": [
       "14"
      ]
     },
     "execution_count": 8,
     "metadata": {},
     "output_type": "execute_result"
    }
   ],
   "source": [
    "len(col)"
   ]
  },
  {
   "cell_type": "code",
   "execution_count": 9,
   "metadata": {
    "collapsed": false,
    "deletable": true,
    "editable": true
   },
   "outputs": [
    {
     "data": {
      "text/plain": [
       "3"
      ]
     },
     "execution_count": 9,
     "metadata": {},
     "output_type": "execute_result"
    }
   ],
   "source": [
    "len([x for x in col if x.state == 2])"
   ]
  },
  {
   "cell_type": "code",
   "execution_count": 10,
   "metadata": {
    "collapsed": false,
    "deletable": true,
    "editable": true
   },
   "outputs": [
    {
     "name": "stdout",
     "output_type": "stream",
     "text": [
      "3.9\n",
      "[<__main__.bacteria object at 0x000001B5971C24E0>, <__main__.bacteria object at 0x000001B5971C2550>, <__main__.bacteria object at 0x000001B5971C2630>, <__main__.bacteria object at 0x000001B5971C25F8>]\n"
     ]
    }
   ],
   "source": [
    "horizontal_gene_transfer(col,res_trans_rate=.3,acq_trans_rate=.6)"
   ]
  },
  {
   "cell_type": "code",
   "execution_count": 11,
   "metadata": {
    "collapsed": false,
    "deletable": true,
    "editable": true
   },
   "outputs": [
    {
     "data": {
      "text/plain": [
       "7"
      ]
     },
     "execution_count": 11,
     "metadata": {},
     "output_type": "execute_result"
    }
   ],
   "source": [
    "len([x for x in col if x.state == 2])"
   ]
  },
  {
   "cell_type": "code",
   "execution_count": 12,
   "metadata": {
    "collapsed": false,
    "deletable": true,
    "editable": true
   },
   "outputs": [
    {
     "data": {
      "text/html": [
       "<div>\n",
       "<style>\n",
       "    .dataframe thead tr:only-child th {\n",
       "        text-align: right;\n",
       "    }\n",
       "\n",
       "    .dataframe thead th {\n",
       "        text-align: left;\n",
       "    }\n",
       "\n",
       "    .dataframe tbody tr th {\n",
       "        vertical-align: top;\n",
       "    }\n",
       "</style>\n",
       "<table border=\"1\" class=\"dataframe\">\n",
       "  <thead>\n",
       "    <tr style=\"text-align: right;\">\n",
       "      <th></th>\n",
       "      <th>state</th>\n",
       "      <th>taxonomy</th>\n",
       "      <th>gene_pres</th>\n",
       "      <th>gene</th>\n",
       "      <th>mge_pres</th>\n",
       "      <th>mge</th>\n",
       "      <th>biome</th>\n",
       "    </tr>\n",
       "  </thead>\n",
       "  <tbody>\n",
       "    <tr>\n",
       "      <th>0</th>\n",
       "      <td>2</td>\n",
       "      <td>sdfsa</td>\n",
       "      <td>1</td>\n",
       "      <td>ArB1</td>\n",
       "      <td>0</td>\n",
       "      <td>0</td>\n",
       "      <td>ocean</td>\n",
       "    </tr>\n",
       "    <tr>\n",
       "      <th>1</th>\n",
       "      <td>2</td>\n",
       "      <td>dafsdva</td>\n",
       "      <td>0</td>\n",
       "      <td>0</td>\n",
       "      <td>0</td>\n",
       "      <td>0</td>\n",
       "      <td>ocean</td>\n",
       "    </tr>\n",
       "    <tr>\n",
       "      <th>2</th>\n",
       "      <td>2</td>\n",
       "      <td>dafsdva</td>\n",
       "      <td>0</td>\n",
       "      <td>0</td>\n",
       "      <td>0</td>\n",
       "      <td>0</td>\n",
       "      <td>ocean</td>\n",
       "    </tr>\n",
       "    <tr>\n",
       "      <th>3</th>\n",
       "      <td>2</td>\n",
       "      <td>dafsdva</td>\n",
       "      <td>0</td>\n",
       "      <td>0</td>\n",
       "      <td>0</td>\n",
       "      <td>0</td>\n",
       "      <td>ocean</td>\n",
       "    </tr>\n",
       "    <tr>\n",
       "      <th>4</th>\n",
       "      <td>2</td>\n",
       "      <td>dafsdva</td>\n",
       "      <td>0</td>\n",
       "      <td>0</td>\n",
       "      <td>0</td>\n",
       "      <td>0</td>\n",
       "      <td>ocean</td>\n",
       "    </tr>\n",
       "    <tr>\n",
       "      <th>5</th>\n",
       "      <td>2</td>\n",
       "      <td>dafsdva</td>\n",
       "      <td>0</td>\n",
       "      <td>0</td>\n",
       "      <td>0</td>\n",
       "      <td>0</td>\n",
       "      <td>ocean</td>\n",
       "    </tr>\n",
       "    <tr>\n",
       "      <th>6</th>\n",
       "      <td>2</td>\n",
       "      <td>dafsdva</td>\n",
       "      <td>0</td>\n",
       "      <td>0</td>\n",
       "      <td>0</td>\n",
       "      <td>0</td>\n",
       "      <td>ocean</td>\n",
       "    </tr>\n",
       "  </tbody>\n",
       "</table>\n",
       "</div>"
      ],
      "text/plain": [
       "   state taxonomy  gene_pres  gene  mge_pres  mge  biome\n",
       "0      2    sdfsa          1  ArB1         0    0  ocean\n",
       "1      2  dafsdva          0     0         0    0  ocean\n",
       "2      2  dafsdva          0     0         0    0  ocean\n",
       "3      2  dafsdva          0     0         0    0  ocean\n",
       "4      2  dafsdva          0     0         0    0  ocean\n",
       "5      2  dafsdva          0     0         0    0  ocean\n",
       "6      2  dafsdva          0     0         0    0  ocean"
      ]
     },
     "execution_count": 12,
     "metadata": {},
     "output_type": "execute_result"
    }
   ],
   "source": [
    "group_df([x for x in col if x.state == 2])"
   ]
  }
 ],
 "metadata": {
  "kernelspec": {
   "display_name": "Python 3",
   "language": "python",
   "name": "python3"
  },
  "language_info": {
   "codemirror_mode": {
    "name": "ipython",
    "version": 3
   },
   "file_extension": ".py",
   "mimetype": "text/x-python",
   "name": "python",
   "nbconvert_exporter": "python",
   "pygments_lexer": "ipython3",
   "version": "3.5.2"
  }
 },
 "nbformat": 4,
 "nbformat_minor": 2
}
