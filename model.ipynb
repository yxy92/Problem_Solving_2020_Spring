{
 "cells": [
  {
   "cell_type": "code",
   "execution_count": 8,
   "metadata": {},
   "outputs": [],
   "source": [
    "from mesa import Model\n",
    "from mesa.space import MultiGrid\n",
    "from mesa.time import RandomActivation\n",
    "from mesa.datacollection import DataCollector\n",
    "import random\n",
    "import import_ipynb\n",
    "\n",
    "import agent\n",
    "\n"
   ]
  },
  {
   "cell_type": "code",
   "execution_count": 9,
   "metadata": {},
   "outputs": [],
   "source": [
    "class Bacteria_Colony(Model):\n",
    "    def __init__(self,N=100,width=10,height=10,infected_rate=0.01):\n",
    "\n",
    "        self.num_agents = N\n",
    "        self.width =width\n",
    "        self.height = height\n",
    "        self.grid = MultiGrid(width,height,True)\n",
    "\n",
    "        self.schedule = RandomActivation(self)\n",
    "\n",
    "        # DataCollector\n",
    "        self.datacollector = DataCollector(\n",
    "                {\"Susceptible\":lambda m: m.count_head(0),\n",
    "                 \"Infected\": lambda m: m.count_head(1),\n",
    "                 \"Recovered\": lambda m: m.count_head(2)})\n",
    "                 # m corresponds to the model, which is the argument of the function\n",
    "\n",
    "        # create and assign agents\n",
    "        coords_list = [(x,y) for x in range(width) for y in range(height)]\n",
    "\n",
    "        for i in range(self.num_agents):\n",
    "            # randomly assign the agent to a cell\n",
    "            coords = random.choice(coords_list)\n",
    "            #print(coords)\n",
    "            p = random.uniform(0,1)\n",
    "            if p<infected_rate:\n",
    "                state = 1\n",
    "            else:\n",
    "                state = 0\n",
    "            a = Bacteria(i,self,state)\n",
    "            self.grid.place_agent(a, coords)\n",
    "            self.schedule.add(a)\n",
    "\n",
    "        self.running=True\n",
    "        self.datacollector.collect(self)\n",
    "\n",
    "    def step(self):\n",
    "        self.schedule.step()\n",
    "        self.datacollector.collect(self)\n",
    "        #print(self.num_agents)\n",
    "        #print(self.count_head(0))\n",
    "        #print(self.count_head(1))\n",
    "        #print(self.count_head(2))\n",
    "\n",
    "    def run_model(self,step_count=200):\n",
    "        for i in range(step_count):\n",
    "            #print(\"The model is currently running step %d\" % (i))\n",
    "            self.step()\n",
    "\n",
    "    def count_head(self,type):\n",
    "        # type 0: Susceptible, 1: Infected, 2: Recovered\n",
    "        count = 0;\n",
    "        tmp = self.schedule._agents\n",
    "        for each in tmp.values():\n",
    "            if each.state == type:\n",
    "                count+=1\n",
    "        return count\n",
    "\n"
   ]
  },
  {
   "cell_type": "markdown",
   "metadata": {},
   "source": [
    "# Test Zone"
   ]
  },
  {
   "cell_type": "code",
   "execution_count": 10,
   "metadata": {},
   "outputs": [
    {
     "ename": "NameError",
     "evalue": "name 'Bacteria' is not defined",
     "output_type": "error",
     "traceback": [
      "\u001b[0;31m---------------------------------------------------------------------------\u001b[0m",
      "\u001b[0;31mNameError\u001b[0m                                 Traceback (most recent call last)",
      "\u001b[0;32m<ipython-input-10-6250147d03f6>\u001b[0m in \u001b[0;36m<module>\u001b[0;34m\u001b[0m\n\u001b[0;32m----> 1\u001b[0;31m \u001b[0mmodel\u001b[0m \u001b[0;34m=\u001b[0m \u001b[0mBacteria_Colony\u001b[0m\u001b[0;34m(\u001b[0m\u001b[0;36m100\u001b[0m\u001b[0;34m,\u001b[0m\u001b[0;36m10\u001b[0m\u001b[0;34m,\u001b[0m\u001b[0;36m10\u001b[0m\u001b[0;34m)\u001b[0m\u001b[0;34m\u001b[0m\u001b[0;34m\u001b[0m\u001b[0m\n\u001b[0m\u001b[1;32m      2\u001b[0m \u001b[0mmodel\u001b[0m\u001b[0;34m.\u001b[0m\u001b[0mrun_model\u001b[0m\u001b[0;34m(\u001b[0m\u001b[0;34m)\u001b[0m\u001b[0;34m\u001b[0m\u001b[0;34m\u001b[0m\u001b[0m\n",
      "\u001b[0;32m<ipython-input-9-1cfeea2eb881>\u001b[0m in \u001b[0;36m__init__\u001b[0;34m(self, N, width, height, infected_rate)\u001b[0m\n\u001b[1;32m     28\u001b[0m             \u001b[0;32melse\u001b[0m\u001b[0;34m:\u001b[0m\u001b[0;34m\u001b[0m\u001b[0;34m\u001b[0m\u001b[0m\n\u001b[1;32m     29\u001b[0m                 \u001b[0mstate\u001b[0m \u001b[0;34m=\u001b[0m \u001b[0;36m0\u001b[0m\u001b[0;34m\u001b[0m\u001b[0;34m\u001b[0m\u001b[0m\n\u001b[0;32m---> 30\u001b[0;31m             \u001b[0ma\u001b[0m \u001b[0;34m=\u001b[0m \u001b[0mBacteria\u001b[0m\u001b[0;34m(\u001b[0m\u001b[0mi\u001b[0m\u001b[0;34m,\u001b[0m\u001b[0mself\u001b[0m\u001b[0;34m,\u001b[0m\u001b[0mstate\u001b[0m\u001b[0;34m)\u001b[0m\u001b[0;34m\u001b[0m\u001b[0;34m\u001b[0m\u001b[0m\n\u001b[0m\u001b[1;32m     31\u001b[0m             \u001b[0mself\u001b[0m\u001b[0;34m.\u001b[0m\u001b[0mgrid\u001b[0m\u001b[0;34m.\u001b[0m\u001b[0mplace_agent\u001b[0m\u001b[0;34m(\u001b[0m\u001b[0ma\u001b[0m\u001b[0;34m,\u001b[0m \u001b[0mcoords\u001b[0m\u001b[0;34m)\u001b[0m\u001b[0;34m\u001b[0m\u001b[0;34m\u001b[0m\u001b[0m\n\u001b[1;32m     32\u001b[0m             \u001b[0mself\u001b[0m\u001b[0;34m.\u001b[0m\u001b[0mschedule\u001b[0m\u001b[0;34m.\u001b[0m\u001b[0madd\u001b[0m\u001b[0;34m(\u001b[0m\u001b[0ma\u001b[0m\u001b[0;34m)\u001b[0m\u001b[0;34m\u001b[0m\u001b[0;34m\u001b[0m\u001b[0m\n",
      "\u001b[0;31mNameError\u001b[0m: name 'Bacteria' is not defined"
     ]
    }
   ],
   "source": [
    "    model = Bacteria_Colony(100,10,10)\n",
    "    model.run_model()"
   ]
  },
  {
   "cell_type": "code",
   "execution_count": null,
   "metadata": {},
   "outputs": [],
   "source": []
  },
  {
   "cell_type": "code",
   "execution_count": null,
   "metadata": {},
   "outputs": [],
   "source": []
  }
 ],
 "metadata": {
  "kernelspec": {
   "display_name": "Python 3",
   "language": "python",
   "name": "python3"
  },
  "language_info": {
   "codemirror_mode": {
    "name": "ipython",
    "version": 3
   },
   "file_extension": ".py",
   "mimetype": "text/x-python",
   "name": "python",
   "nbconvert_exporter": "python",
   "pygments_lexer": "ipython3",
   "version": "3.7.3"
  }
 },
 "nbformat": 4,
 "nbformat_minor": 4
}
